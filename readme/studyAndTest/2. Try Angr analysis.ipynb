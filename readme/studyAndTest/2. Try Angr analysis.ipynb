{
 "cells": [
  {
   "cell_type": "code",
   "execution_count": 2,
   "metadata": {
    "collapsed": false
   },
   "outputs": [
    {
     "name": "stderr",
     "output_type": "stream",
     "text": [
      "WARNING | 2020-01-16 16:08:24,235 | \u001b[32mangr.state_plugins.symbolic_memory\u001b[0m | \u001b[32mFilling memory at 0x7fffffff with 8 unconstrained bytes referenced from 0x400615 (PLT.ptrace+0x15 in r100 (0x400615))\u001b[0m\n"
     ]
    }
   ],
   "source": [
    "import angr\n",
    "proj = angr.Project('readme/studyAndTest/r100', auto_load_libs=False)\n",
    "cfg = proj.analyses.CFGFast()"
   ]
  },
  {
   "cell_type": "code",
   "execution_count": 3,
   "metadata": {},
   "outputs": [
    {
     "name": "stdout",
     "output_type": "stream",
     "text": [
      "<CFGFast Analysis Result at 0x1af7f90d1d0>\n"
     ]
    }
   ],
   "source": [
    "print(cfg)"
   ]
  },
  {
   "cell_type": "code",
   "execution_count": 4,
   "metadata": {},
   "outputs": [
    {
     "data": {
      "text/plain": [
       "<networkx.classes.digraph.DiGraph at 0x1af7f945550>"
      ]
     },
     "execution_count": 4,
     "metadata": {},
     "output_type": "execute_result"
    }
   ],
   "source": [
    "cfg.graph"
   ]
  },
  {
   "cell_type": "code",
   "execution_count": 5,
   "metadata": {},
   "outputs": [
    {
     "data": {
      "text/plain": [
       "91"
      ]
     },
     "execution_count": 5,
     "metadata": {},
     "output_type": "execute_result"
    }
   ],
   "source": [
    "len(cfg.graph.nodes())"
   ]
  },
  {
   "cell_type": "code",
   "execution_count": 6,
   "metadata": {},
   "outputs": [
    {
     "data": {
      "text/plain": [
       "1"
      ]
     },
     "execution_count": 6,
     "metadata": {},
     "output_type": "execute_result"
    }
   ],
   "source": [
    "entry_node = cfg.model.get_any_node(proj.entry)\n",
    "len(list(cfg.graph.successors(entry_node)))"
   ]
  },
  {
   "cell_type": "code",
   "execution_count": 6,
   "metadata": {},
   "outputs": [
    {
     "name": "stdout",
     "output_type": "stream",
     "text": [
      "node_L2: 3\nnode_L3: 2\nnode_L3: 2\nnode_L3: 0\n"
     ]
    }
   ],
   "source": [
    "for node_L1 in list(cfg.graph.successors(entry_node)):\n",
    "    for node_L2 in list(cfg.graph.successors(node_L1)):\n",
    "        print('node_L2: ' + str(len(list(cfg.graph.successors(node_L2)))))\n",
    "        for node_L3 in list(cfg.graph.successors(node_L2)):\n",
    "            print('node_L3: ' + str(len(list(cfg.graph.successors(node_L3)))))"
   ]
  },
  {
   "cell_type": "code",
   "execution_count": 7,
   "metadata": {},
   "outputs": [
    {
     "name": "stderr",
     "output_type": "stream",
     "text": [
      "CRITICAL | 2020-01-16 15:57:25,016 | \u001b[37mangr.analyses.identifier.identify\u001b[0m | \u001b[37mThe identifier currently works only on CGC binaries. Results may be completely unexpected.\u001b[0m\n"
     ]
    },
    {
     "name": "stderr",
     "output_type": "stream",
     "text": [
      "WARNING | 2020-01-16 15:57:25,034 | \u001b[32mangr.state_plugins.symbolic_memory\u001b[0m | \u001b[32mFilling memory at 0x7fffffff with 8 unconstrained bytes referenced from 0x400615 (PLT.ptrace+0x15 in r100 (0x400615))\u001b[0m\n"
     ]
    },
    {
     "name": "stdout",
     "output_type": "stream",
     "text": [
      "\u001b[31;1mDeprecation warning: Use self.model.get_any_node() instead of get_any_node\u001b[0m\n"
     ]
    },
    {
     "name": "stderr",
     "output_type": "stream",
     "text": [
      "WARNING | 2020-01-16 15:57:25,784 | \u001b[32mangr.state_plugins.symbolic_memory\u001b[0m | \u001b[32mFilling register cc_ndep with 8 unconstrained bytes referenced from 0x400690 (PLT.ptrace+0x90 in r100 (0x400690))\u001b[0m\n"
     ]
    },
    {
     "name": "stderr",
     "output_type": "stream",
     "text": [
      "WARNING | 2020-01-16 15:57:25,805 | \u001b[32mangr.state_plugins.symbolic_memory\u001b[0m | \u001b[32mFilling register cc_ndep with 8 unconstrained bytes referenced from 0x400690 (PLT.ptrace+0x90 in r100 (0x400690))\u001b[0m\n"
     ]
    }
   ],
   "source": [
    "idfer = proj.analyses.Identifier()"
   ]
  },
  {
   "cell_type": "code",
   "execution_count": 8,
   "metadata": {},
   "outputs": [],
   "source": [
    "for addr, symbol in idfer.run():\n",
    "    print(hex(addr), symbol)"
   ]
  },
  {
   "cell_type": "code",
   "execution_count": 9,
   "metadata": {},
   "outputs": [
    {
     "data": {
      "text/plain": [
       "<generator object Identifier.run at 0x0000029A575DDA20>"
      ]
     },
     "execution_count": 9,
     "metadata": {},
     "output_type": "execute_result"
    }
   ],
   "source": [
    "idfer.run()"
   ]
  },
  {
   "cell_type": "code",
   "execution_count": 10,
   "metadata": {},
   "outputs": [
    {
     "data": {
      "text/plain": [
       "b'Code_Talkers\\xf5\\xf5\\xf5\\xf5\\xf5\\xf5\\xf5\\xf5\\xf5\\xf5\\xf5\\xf5\\xf5\\xf5\\xf5\\xf5\\xf5\\xf5\\xf5\\xf5\\xf5\\xf5\\xf5\\xf5\\xf5\\xf5\\xf5\\xf5\\xf5\\xf5\\xf5\\xf5\\xf5\\xf5\\xf5\\xf5\\xf5\\xf5\\xf5\\xf5\\xf5\\xf5\\xf5\\xf5\\xf5\\xf5\\xf5\\xf5\\xf5\\xf5\\xf5\\xf5\\xf5\\xf5\\xf5\\xf5\\xf5\\xf5\\xf5\\xf5\\xf5\\xf5\\xf5\\xf5\\xf5\\xf5\\xf5\\xf5\\xf5\\xf5\\xf5\\xf5\\xf5\\xf5\\xf5\\xf5\\xf5\\xf5\\xf5\\xf5\\xf5\\xf5\\xf5\\xf5\\xf5\\xf5\\xf5\\xf5\\xf5\\xf5\\xf5\\xf5\\xf5\\xf5\\xf5\\xf5\\xf5\\xf5\\xe5\\xf5\\xf5\\xf5\\xf5\\xf5\\xf5\\xf5\\xe5\\xf5\\xf5\\xf5\\xf5\\xf5\\xf5\\xf5\\xf5\\xf5\\xf5\\xf5\\xf5\\xf5\\xf5\\xf5\\xf5\\xf5\\xf5\\xf5\\xf5\\xf5\\xf5\\xf5\\xf5\\xf5\\xf5\\xf4\\xf5\\xf5\\xf5\\xf5\\xf5\\xf5\\xf5\\xf5\\xf5\\xf5\\xf5\\xf5\\xf5\\xf5\\xf5\\xf5\\xf5\\xf5\\xf5\\xf5\\xf5\\xf5\\xf5\\xf5\\xf5\\xf5\\xf5\\xf5u\\xf5\\xf5\\xf5\\xf5\\xf5\\xf5\\xf5\\xf5\\xf5\\xf5\\xf5\\xf5\\xf5\\xf5\\xf5\\xf5\\xf5\\xf5\\xf5\\xf5\\xf5\\xf5\\xf5\\xf5\\xf5\\xf5\\xf5\\xf5\\xf5\\xf5\\xf5\\xf5\\xf5\\xf5\\xf5\\xf5\\xf5\\xf5\\xf5\\xf5\\xf5\\xf5\\xf5\\xf5\\xf5\\xf5\\xf5\\xf5\\xf5\\xf5\\xf5\\xf5\\xf5\\xf5\\xf5\\xf5\\xf5\\xf5\\xf5\\xf5\\xf5\\xf5\\xf5\\xf5\\xf5\\xf5\\xf5\\xf5\\xf5\\xf5\\xf5\\xf5\\xf5\\xf5\\xf5\\xf5\\xf5\\xf5\\x00'"
      ]
     },
     "execution_count": 10,
     "metadata": {},
     "output_type": "execute_result"
    }
   ],
   "source": [
    "simgr = proj.factory.simulation_manager(proj.factory.full_init_state())\n",
    "simgr.explore(find=0x400844, avoid=0x400855)\n",
    "simgr.found[0].posix.dumps(0)"
   ]
  },
  {
   "cell_type": "code",
   "execution_count": 15,
   "metadata": {
    "collapsed": true
   },
   "outputs": [
    {
     "name": "stdout",
     "output_type": "stream",
     "text": [
      "38\n0x400560 sub_400560\n0x40058c sub_40058c\n0x400590 getenv\n0x4005a0 puts\n0x4005b0 __stack_chk_fail\n0x4005c0 printf\n0x4005d0 __libc_start_main\n0x4005e0 fgets\n0x4005f0 __gmon_start__\n0x400600 ptrace\n0x400610 _start\n0x400639 sub_400639\n0x40063a sub_40063a\n0x400640 sub_400640\n0x400669 sub_400669\n0x4006a9 sub_4006a9\n0x4006b0 sub_4006b0\n0x4006b9 sub_4006b9\n0x4006cc sub_4006cc\n0x4006d0 sub_4006d0\n0x4006f5 sub_4006f5\n0x4006fd sub_4006fd\n0x4007a8 sub_4007a8\n0x4007e8 main\n0x400881 sub_400881\n0x400890 init\n0x4008f5 sub_4008f5\n0x400900 fini\n0x400904 sub_400904\n0x10000e0 getenv\n0x10000e8 puts\n0x10000f0 __stack_chk_fail\n0x10000f8 printf\n0x1000100 __libc_start_main\n0x1000108 fgets\n0x1000110 ptrace\n0x1000160 UnresolvableJumpTarget\n0x1000168 UnresolvableCallTarget\n"
     ]
    }
   ],
   "source": [
    "print(len(cfg.functions.items()))\n",
    "for address, func in cfg.functions.items():\n",
    "    print(hex(address), func.name)\n",
    "\n",
    "    # print(func)    \n",
    "    #break\n"
   ]
  },
  {
   "cell_type": "code",
   "execution_count": 19,
   "metadata": {},
   "outputs": [
    {
     "name": "stdout",
     "output_type": "stream",
     "text": [
      "\n"
     ]
    }
   ],
   "source": [
    "print(cfg.functions.callgraph)"
   ]
  },
  {
   "cell_type": "code",
   "execution_count": null,
   "metadata": {},
   "outputs": [],
   "source": []
  }
 ],
 "metadata": {
  "kernelspec": {
   "display_name": "Python 2",
   "language": "python",
   "name": "python2"
  },
  "language_info": {
   "codemirror_mode": {
    "name": "ipython",
    "version": 2
   },
   "file_extension": ".py",
   "mimetype": "text/x-python",
   "name": "python",
   "nbconvert_exporter": "python",
   "pygments_lexer": "ipython2",
   "version": "2.7.6"
  }
 },
 "nbformat": 4,
 "nbformat_minor": 0
}

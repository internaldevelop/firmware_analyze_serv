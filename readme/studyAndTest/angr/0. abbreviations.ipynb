{
 "cells": [
  {
   "cell_type": "markdown",
   "metadata": {
    "pycharm": {
     "name": "#%% md\n"
    }
   },
   "level": 1,
   "source": [
    "BVV: bitvector value\n"
   ]
  },
  {
   "cell_type": "markdown",
   "metadata": {
    "collapsed": true,
    "pycharm": {
     "name": "#%% md\n"
    }
   },
   "level": 1,
   "source": [
    "CFG: Control-flow graph 组织控制流图\n"
   ]
  },
  {
   "cell_type": "markdown",
   "metadata": {
    "pycharm": {
     "name": "#%% md\n"
    }
   },
   "level": 1,
   "source": [
    "VFG: 值-集合的分析"
   ]
  },
  {
   "cell_type": "markdown",
   "metadata": {
    "pycharm": {
     "name": "#%% md\n"
    }
   },
   "source": [
    "Blocks：angr分析代码是以基本块(在编译器构造中，基本块是一个直线代码序列，除了入口外没有分支，除了出口处没有分支)为单位。"
   ]
  },
  {
   "cell_type": "markdown",
   "source": [
    "pp: pretty-print a disassembly to stdout"
   ],
   "metadata": {
    "collapsed": false,
    "pycharm": {
     "name": "#%% md\n"
    }
   }
  },
  {
   "cell_type": "markdown",
   "source": [
    "VEX IR: VEX IRSB (that's a python internal address, not a program address)。\n",
    "相对汇编语言，VEX IR更像是Compiler的中间语言\n"
   ],
   "metadata": {
    "collapsed": false
   }
  },
  {
   "cell_type": "markdown",
   "source": [
    "capstone: capstone disassembly。轻量级多平台、多体系的反汇编架构。目标是终极反汇编引擎，用于二进制代码分析和逆向。"
   ],
   "metadata": {
    "collapsed": false
   }
  },
  {
   "cell_type": "markdown",
   "source": [
    "1、通用寄存器:RAX、RBX、RCX、RDX、RSI、RDI、RBP、RSP;  \n",
    "2、段寄存器  :CS、DS、ES、SS、FS、GS;  \n",
    "3、指令寄存器:RIP;  \n",
    "4、标志寄存器:RFLAGS;  \n",
    "5、系统表寄存器:GDTR、LDTR、IDTR、TR;  \n",
    "6、控制寄存器:CR0、CR1、CR2、CR3、CR4;  \n",
    "7、调试寄存器:DR0、DR1、DR2、DR3、DR4、DR5、DR6、DR7;  \n",
    "8、测试寄存器:TR0、TR1、TR2、TR3、TR4、TR5、TR6、TR7;  \n",
    "9、浮点寄存器:ST0、ST1、ST2、ST3、ST4、ST5、ST6、ST7;"
   ],
   "metadata": {
    "collapsed": false
   }
  }
 ],
 "metadata": {
  "kernelspec": {
   "name": "pycharm-fac972de",
   "language": "python",
   "display_name": "PyCharm (firmware_analyze_serv)"
  },
  "language_info": {
   "codemirror_mode": {
    "name": "ipython",
    "version": 2
   },
   "file_extension": ".py",
   "mimetype": "text/x-python",
   "name": "python",
   "nbconvert_exporter": "python",
   "pygments_lexer": "ipython2",
   "version": "2.7.6"
  },
  "pycharm": {
   "stem_cell": {
    "cell_type": "raw",
    "source": [],
    "metadata": {
     "collapsed": false
    }
   }
  }
 },
 "nbformat": 4,
 "nbformat_minor": 0
}